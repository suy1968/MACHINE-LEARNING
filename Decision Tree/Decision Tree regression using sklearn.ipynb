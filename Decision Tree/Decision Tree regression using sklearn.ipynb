{
 "cells": [
  {
   "cell_type": "code",
   "execution_count": 17,
   "metadata": {},
   "outputs": [],
   "source": [
    "import numpy as np \n",
    "import matplotlib.pyplot as plt \n",
    "import pandas as pd \n",
    "from sklearn.tree import DecisionTreeRegressor "
   ]
  },
  {
   "cell_type": "code",
   "execution_count": 18,
   "metadata": {},
   "outputs": [
    {
     "name": "stdout",
     "output_type": "stream",
     "text": [
      "[['Asset Flip' '100' '1000']\n",
      " ['Text Based' '500' '3000']\n",
      " ['Visual Novel' '1500' '5000']\n",
      " ['2D Pixel Art' '3500' '8000']\n",
      " ['2D Vector Art' '5000' '6500']\n",
      " ['Strategy' '6000' '7000']\n",
      " ['First Person Shooter' '8000' '15000']\n",
      " ['Simulator' '9500' '20000']\n",
      " ['Racing' '12000' '21000']\n",
      " ['RPG' '14000' '25000']\n",
      " ['Sandbox' '15500' '27000']\n",
      " ['Open-World' '16500' '30000']\n",
      " ['MMOFPS' '25000' '52000']\n",
      " ['MMORPG' '30000' '80000']]\n"
     ]
    }
   ],
   "source": [
    "dataset = np.array( [['Asset Flip', 100, 1000],['Text Based', 500, 3000], ['Visual Novel', 1500, 5000], ['2D Pixel Art', 3500, 8000], ['2D Vector Art', 5000, 6500],['Strategy', 6000, 7000], ['First Person Shooter', 8000, 15000], ['Simulator', 9500, 20000], ['Racing', 12000, 21000],['RPG', 14000, 25000], ['Sandbox', 15500, 27000], ['Open-World', 16500, 30000],['MMOFPS', 25000, 52000], ['MMORPG', 30000, 80000] ]) \n",
    "\n",
    "print(dataset) \n"
   ]
  },
  {
   "cell_type": "code",
   "execution_count": 19,
   "metadata": {},
   "outputs": [
    {
     "name": "stdout",
     "output_type": "stream",
     "text": [
      "[[  100]\n",
      " [  500]\n",
      " [ 1500]\n",
      " [ 3500]\n",
      " [ 5000]\n",
      " [ 6000]\n",
      " [ 8000]\n",
      " [ 9500]\n",
      " [12000]\n",
      " [14000]\n",
      " [15500]\n",
      " [16500]\n",
      " [25000]\n",
      " [30000]]\n"
     ]
    }
   ],
   "source": [
    "X = dataset[:, 1:2].astype(int)  \n",
    "print(X) \n"
   ]
  },
  {
   "cell_type": "code",
   "execution_count": 20,
   "metadata": {},
   "outputs": [
    {
     "name": "stdout",
     "output_type": "stream",
     "text": [
      "[ 1000  3000  5000  8000  6500  7000 15000 20000 21000 25000 27000 30000\n",
      " 52000 80000]\n"
     ]
    }
   ],
   "source": [
    "y = dataset[:, 2].astype(int) \n",
    "print(y) "
   ]
  },
  {
   "cell_type": "code",
   "execution_count": 21,
   "metadata": {},
   "outputs": [
    {
     "data": {
      "text/plain": [
       "DecisionTreeRegressor(random_state=0)"
      ]
     },
     "execution_count": 21,
     "metadata": {},
     "output_type": "execute_result"
    }
   ],
   "source": [
    "regressor = DecisionTreeRegressor(random_state = 0) \n",
    "regressor.fit(X, y) \n"
   ]
  },
  {
   "cell_type": "code",
   "execution_count": 26,
   "metadata": {},
   "outputs": [
    {
     "name": "stdout",
     "output_type": "stream",
     "text": [
      "Predicted price:  8000\n",
      "\n"
     ]
    }
   ],
   "source": [
    "A=np.array(3750).reshape(1, -1)\n",
    "y_pred = regressor.predict(A)\n",
    "print(\"Predicted price: % d\\n\"% y_pred) \n"
   ]
  },
  {
   "cell_type": "code",
   "execution_count": 27,
   "metadata": {},
   "outputs": [
    {
     "data": {
      "image/png": "[encoded data removed]",
      "text/plain": [
       "<Figure size 432x288 with 1 Axes>"
      ]
     },
     "metadata": {
      "needs_background": "light"
     },
     "output_type": "display_data"
    }
   ],
   "source": [
    "X_grid = np.arange(min(X), max(X), 0.01) \n",
    "X_grid = X_grid.reshape((len(X_grid), 1)) \n",
    "\n",
    "plt.scatter(X, y, color = 'red') \n",
    "plt.plot(X_grid, regressor.predict(X_grid), color = 'blue') \n",
    "plt.title('Profit to Production Cost (Decision Tree Regression)') \n",
    "plt.xlabel('Production Cost') \n",
    "plt.ylabel('Profit') \n",
    "plt.show() "
   ]
  },
  {
   "cell_type": "code",
   "execution_count": null,
   "metadata": {},
   "outputs": [],
   "source": []
  }
 ],
 "metadata": {
  "kernelspec": {
   "display_name": "Python 3",
   "language": "python",
   "name": "python3"
  },
  "language_info": {
   "codemirror_mode": {
    "name": "ipython",
    "version": 3
   },
   "file_extension": ".py",
   "mimetype": "text/x-python",
   "name": "python",
   "nbconvert_exporter": "python",
   "pygments_lexer": "ipython3",
   "version": "3.7.1"
  }
 },
 "nbformat": 4,
 "nbformat_minor": 2
}
