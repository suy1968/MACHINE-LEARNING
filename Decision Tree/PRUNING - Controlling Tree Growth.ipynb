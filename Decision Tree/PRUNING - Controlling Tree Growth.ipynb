{
 "cells": [
  {
   "cell_type": "markdown",
   "metadata": {},
   "source": [
    "# Controlling Tree Growth"
   ]
  },
  {
   "cell_type": "markdown",
   "metadata": {},
   "source": [
    "### Maximum number of levels in tree"
   ]
  },
  {
   "cell_type": "code",
   "execution_count": null,
   "metadata": {},
   "outputs": [],
   "source": [
    "regtree1 = tree.DecisionTreeRegressor(max_depth = 3)\n",
    "regtree1.fit(X_train, y_train)\n",
    "\n",
    "dot_data = tree.graphviz(regtree1,out_file=None, feature_names=X_train.columns, filled= True)\n",
    "graph1 = pydotplus.graph_from_dot_data(dot_data)\n",
    "Image(graph1.create_png())"
   ]
  },
  {
   "cell_type": "code",
   "execution_count": null,
   "metadata": {},
   "outputs": [],
   "source": []
  },
  {
   "cell_type": "markdown",
   "metadata": {},
   "source": [
    "### Minimum observations at internal node"
   ]
  },
  {
   "cell_type": "code",
   "execution_count": null,
   "metadata": {},
   "outputs": [],
   "source": [
    "regtree2 = tree.DecisionTreeRegressor(min_samples_split = 3)\n",
    "regtree2.fit(X_train, y_train)\n",
    "\n",
    "dot_data = tree.graphviz(regtree2,out_file=None, feature_names=X_train.columns, filled= True)\n",
    "graph2 = pydotplus.graph_from_dot_data(dot_data)\n",
    "Image(graph2.create_png())"
   ]
  },
  {
   "cell_type": "markdown",
   "metadata": {},
   "source": [
    "### Minimum observations at leaf node"
   ]
  },
  {
   "cell_type": "code",
   "execution_count": null,
   "metadata": {},
   "outputs": [],
   "source": [
    "regtree3 = tree.DecisionTreeRegressor(min_samples_leaf = 3)\n",
    "regtree3.fit(X_train, y_train)\n",
    "\n",
    "dot_data = tree.graphviz(regtree3,out_file=None, feature_names=X_train.columns, filled= True)\n",
    "graph3 = pydotplus.graph_from_dot_data(dot_data)\n",
    "Image(graph3.create_png())"
   ]
  }
 ],
 "metadata": {
  "kernelspec": {
   "display_name": "Python 3",
   "language": "python",
   "name": "python3"
  },
  "language_info": {
   "codemirror_mode": {
    "name": "ipython",
    "version": 3
   },
   "file_extension": ".py",
   "mimetype": "text/x-python",
   "name": "python",
   "nbconvert_exporter": "python",
   "pygments_lexer": "ipython3",
   "version": "3.7.1"
  }
 },
 "nbformat": 4,
 "nbformat_minor": 4
}
